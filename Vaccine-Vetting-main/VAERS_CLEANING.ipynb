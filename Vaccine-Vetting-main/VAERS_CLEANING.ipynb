{
 "cells": [
  {
   "cell_type": "code",
   "execution_count": null,
   "metadata": {},
   "outputs": [],
   "source": [
    "import pandas as pd\n",
    "import numpy as np\n",
    "pd.set_option('display.max_columns', None)\n",
    "#pd.set_option('display.max_rows', None)\n"
   ]
  },
  {
   "cell_type": "code",
   "execution_count": null,
   "metadata": {},
   "outputs": [],
   "source": [
    "#VAERSVAX CLEANING\n",
    "df2=pd.read_csv(\"2021VAERSVAX.csv\", encoding = \"ISO-8859-1\")\n",
    "df2"
   ]
  },
  {
   "cell_type": "code",
   "execution_count": null,
   "metadata": {},
   "outputs": [],
   "source": [
    "#filtering out repiratory diseases\n",
    "vaxes=list(df2.VAX_TYPE.unique())\n",
    "print(sorted(vaxes))"
   ]
  },
  {
   "cell_type": "code",
   "execution_count": null,
   "metadata": {},
   "outputs": [],
   "source": [
    "vax=['COVID19','FLU3', 'FLU4', 'FLUA3', 'FLUA4', 'FLUC3', 'FLUC4', 'FLUN3', 'FLUN4', 'FLUR4', 'FLUX', 'FLUX(H1N1)', 'PNC', 'PNC13', 'PPV' ]\n",
    "df2=df2[df2['VAX_TYPE'].isin(vax)]\n",
    "df2\n",
    "print(df2.VAX_TYPE.unique())"
   ]
  },
  {
   "cell_type": "code",
   "execution_count": null,
   "metadata": {},
   "outputs": [],
   "source": [
    "#VAX_MANU\n",
    "vaxmanu=list(df2.VAX_MANU.unique())\n",
    "print(vaxmanu)"
   ]
  },
  {
   "cell_type": "code",
   "execution_count": null,
   "metadata": {},
   "outputs": [],
   "source": [
    "\n",
    "df2.replace(to_replace=['UNKNOWN MANUFACTURER'], value=np.nan, inplace=True)\n",
    "df2"
   ]
  },
  {
   "cell_type": "code",
   "execution_count": null,
   "metadata": {},
   "outputs": [],
   "source": [
    "print(df2.VAX_MANU.unique())"
   ]
  },
  {
   "cell_type": "code",
   "execution_count": null,
   "metadata": {},
   "outputs": [],
   "source": [
    "#VAX_DOSE_SERIES\n",
    "vaxseries=list(df2.VAX_DOSE_SERIES.unique())\n",
    "print(vaxseries)"
   ]
  },
  {
   "cell_type": "code",
   "execution_count": null,
   "metadata": {},
   "outputs": [],
   "source": [
    "df2['VAX_DOSE_SERIES'].replace('UNK', np.nan, inplace=True)\n",
    "print(df2.VAX_DOSE_SERIES.unique())"
   ]
  },
  {
   "cell_type": "code",
   "execution_count": null,
   "metadata": {},
   "outputs": [],
   "source": [
    "#VAX_ROUTE\n",
    "vaxroute=list(df2.VAX_ROUTE.unique())\n",
    "print(vaxroute)"
   ]
  },
  {
   "cell_type": "code",
   "execution_count": null,
   "metadata": {},
   "outputs": [],
   "source": [
    "#VAX_SITE\n",
    "vaxsite=list(df2.VAX_SITE.unique())\n",
    "print(vaxsite)"
   ]
  },
  {
   "cell_type": "code",
   "execution_count": null,
   "metadata": {},
   "outputs": [],
   "source": [
    "#VAX_NAME\n",
    "vaxname=list(df2.VAX_NAME.unique())\n",
    "print(vaxname)"
   ]
  },
  {
   "cell_type": "code",
   "execution_count": null,
   "metadata": {},
   "outputs": [],
   "source": [
    "#VAX_LOT\n",
    "v=df2.VAX_LOT.tolist()\n",
    "print(v,len(v))\n",
    "import numpy as np"
   ]
  },
  {
   "cell_type": "code",
   "execution_count": null,
   "metadata": {},
   "outputs": [],
   "source": [
    "#remove all special characters\n",
    "spec_chars = [\"!\",'\"',\"#\",\"%\",\"&\",\"'\",\"(\",\")\",\n",
    "              \"*\",\"+\",\",\",\"-\",\".\",\"/\",\":\",\";\",\"<\",\n",
    "              \"=\",\">\",\"?\",\"@\",\"[\",\"\\\\\",\"]\",\"^\",\"_\",\n",
    "              \"`\",\"{\",\"|\",\"}\",\"~\",\"–\"]\n",
    "for char in spec_chars:\n",
    "    df2['VAX_LOT'] = df2['VAX_LOT'].str.replace(char, ' ')"
   ]
  },
  {
   "cell_type": "code",
   "execution_count": null,
   "metadata": {},
   "outputs": [],
   "source": [
    "v=df2.VAX_LOT.tolist()\n",
    "print(v,len(v))"
   ]
  },
  {
   "cell_type": "code",
   "execution_count": null,
   "metadata": {},
   "outputs": [],
   "source": [
    "#replace all one \"word\" entries with nan\n",
    "w=set()\n",
    "for input in v:\n",
    "    if str(input).isalpha():\n",
    "        w.add(input)\n",
    "w=list(w)\n",
    "df2['VAX_LOT'] = df2['VAX_LOT'].replace([w],np.nan)\n",
    "print(w)"
   ]
  },
  {
   "cell_type": "code",
   "execution_count": null,
   "metadata": {},
   "outputs": [],
   "source": [
    "#replace all sentence entries with nan\n",
    "w3=set()\n",
    "for i in v:\n",
    "        if all(i.isalpha() or i.isspace() for i in v):\n",
    "            w3.add(i)\n",
    "w3=list(w3)\n",
    "df2['VAX_LOT'] = df2['VAX_LOT'].replace([w3],np.nan)\n",
    "print(w3,len(w3))"
   ]
  },
  {
   "cell_type": "code",
   "execution_count": null,
   "metadata": {},
   "outputs": [],
   "source": [
    "#wrongly formatted entries 3k out of 400k\n",
    "#please ditch\n",
    "w4=set()\n",
    "for i in v:\n",
    "        if \" \" in str(i):\n",
    "            w4.add(i)\n",
    "#print(w4,len(w4))\n",
    "w4=list(w4)\n"
   ]
  },
  {
   "cell_type": "code",
   "execution_count": null,
   "metadata": {},
   "outputs": [],
   "source": [
    "df2['VAX_LOT'] = df2['VAX_LOT'].str.upper()"
   ]
  },
  {
   "cell_type": "code",
   "execution_count": null,
   "metadata": {},
   "outputs": [],
   "source": [
    "df2['VAX_LOT'] = df2['VAX_LOT'].replace([w4],np.nan)\n",
    "#print(w4,len(w4))"
   ]
  },
  {
   "cell_type": "code",
   "execution_count": null,
   "metadata": {},
   "outputs": [],
   "source": [
    "#checking if all wrongly formatted entries have been replaced with nan\n",
    "w5=set()\n",
    "for i in v:\n",
    "        if \" \" in str(i):\n",
    "            w5.add(i)\n",
    "print(w5,len(w5))\n"
   ]
  },
  {
   "cell_type": "code",
   "execution_count": null,
   "metadata": {},
   "outputs": [],
   "source": [
    "#df2.to_csv('2021VAERSVAX.csv', index=False)\n",
    "#df2.to_excel('2021VAERSVAX.xlsx', index=False)"
   ]
  },
  {
   "cell_type": "code",
   "execution_count": null,
   "metadata": {},
   "outputs": [],
   "source": [
    "#VAERSDATA CLEANING\n",
    "df=pd.read_csv('2021VAERSDATA.csv',encoding = \"ISO-8859-1\")"
   ]
  },
  {
   "cell_type": "code",
   "execution_count": null,
   "metadata": {},
   "outputs": [],
   "source": [
    "df"
   ]
  },
  {
   "cell_type": "code",
   "execution_count": null,
   "metadata": {},
   "outputs": [],
   "source": [
    "#VAERS_ID\n",
    "ids=list(df2.VAERS_ID)"
   ]
  },
  {
   "cell_type": "code",
   "execution_count": null,
   "metadata": {},
   "outputs": [],
   "source": [
    "ids"
   ]
  },
  {
   "cell_type": "code",
   "execution_count": null,
   "metadata": {},
   "outputs": [],
   "source": [
    "df=df[df['VAERS_ID'].isin(ids)]"
   ]
  },
  {
   "cell_type": "code",
   "execution_count": null,
   "metadata": {},
   "outputs": [],
   "source": [
    "df"
   ]
  },
  {
   "cell_type": "code",
   "execution_count": null,
   "metadata": {},
   "outputs": [],
   "source": [
    "#RECVDATE\n",
    "spec_chars = [\"/\"]\n",
    "for char in spec_chars:\n",
    "    df['RECVDATE'] = df['RECVDATE'].str.replace(char, '-')\n",
    "df"
   ]
  },
  {
   "cell_type": "code",
   "execution_count": null,
   "metadata": {},
   "outputs": [],
   "source": [
    "#STATE\n",
    "state=list(df.STATE.unique())\n",
    "state"
   ]
  },
  {
   "cell_type": "code",
   "execution_count": null,
   "metadata": {},
   "outputs": [],
   "source": [
    "#AGE\n",
    "age=list(df.AGE_YRS.unique())\n",
    "age"
   ]
  },
  {
   "cell_type": "code",
   "execution_count": null,
   "metadata": {},
   "outputs": [],
   "source": [
    "#SEX (on hold for now)\n",
    "gender=list(df.SEX.unique())\n",
    "gender\n",
    "nums = df.groupby('SEX')['VAERS_ID'].nunique()\n",
    "nums\n"
   ]
  },
  {
   "cell_type": "code",
   "execution_count": null,
   "metadata": {},
   "outputs": [],
   "source": [
    "g=['F','M']\n",
    "df=df[df['SEX'].isin(g)]\n"
   ]
  },
  {
   "cell_type": "code",
   "execution_count": null,
   "metadata": {},
   "outputs": [],
   "source": [
    "gender_new=list(df.SEX.unique())\n",
    "gender_new"
   ]
  },
  {
   "cell_type": "code",
   "execution_count": null,
   "metadata": {},
   "outputs": [],
   "source": [
    "#RPT_DATE\n",
    "\n",
    "spec_chars = [\"/\"]\n",
    "for char in spec_chars:\n",
    "    df['RPT_DATE'] = df['RPT_DATE'].str.replace(char, '-')\n",
    "rd=list(df.RPT_DATE.unique())\n",
    "rd"
   ]
  },
  {
   "cell_type": "code",
   "execution_count": null,
   "metadata": {},
   "outputs": [],
   "source": [
    "#deth \n",
    "deth=list(df.DIED.unique())\n",
    "deth"
   ]
  },
  {
   "cell_type": "code",
   "execution_count": null,
   "metadata": {},
   "outputs": [],
   "source": [
    "#DATEDIED\n",
    "\n",
    "spec_chars = [\"/\"]\n",
    "for char in spec_chars:\n",
    "    df['DATEDIED'] = df['DATEDIED'].str.replace(char, '-')\n",
    "dd=list(df.DATEDIED.unique())\n",
    "dd"
   ]
  },
  {
   "cell_type": "code",
   "execution_count": null,
   "metadata": {},
   "outputs": [],
   "source": [
    "df.columns"
   ]
  },
  {
   "cell_type": "code",
   "execution_count": null,
   "metadata": {},
   "outputs": [],
   "source": [
    "#life threat\n",
    "lt=list(df.L_THREAT.unique())\n",
    "lt"
   ]
  },
  {
   "cell_type": "code",
   "execution_count": null,
   "metadata": {},
   "outputs": [],
   "source": [
    "#er visit\n",
    "ev=list(df.ER_VISIT.unique())\n",
    "ev"
   ]
  },
  {
   "cell_type": "code",
   "execution_count": null,
   "metadata": {},
   "outputs": [],
   "source": [
    "#hospital\n",
    "h=list(df.HOSPITAL.unique())\n",
    "h"
   ]
  },
  {
   "cell_type": "code",
   "execution_count": null,
   "metadata": {},
   "outputs": [],
   "source": [
    "#hospital days\n",
    "hd=list(df.HOSPDAYS.unique())\n",
    "hd"
   ]
  },
  {
   "cell_type": "code",
   "execution_count": null,
   "metadata": {},
   "outputs": [],
   "source": [
    "df['HOSPDAYS'].replace(999, np.nan, inplace=True)\n",
    "df['HOSPDAYS'].replace(99999, np.nan, inplace=True)\n",
    "print(df.HOSPDAYS.unique())"
   ]
  },
  {
   "cell_type": "code",
   "execution_count": null,
   "metadata": {},
   "outputs": [],
   "source": [
    "df.columns"
   ]
  },
  {
   "cell_type": "code",
   "execution_count": null,
   "metadata": {},
   "outputs": [],
   "source": [
    "#x stay\n",
    "xs=list(df.X_STAY.unique())\n",
    "xs"
   ]
  },
  {
   "cell_type": "code",
   "execution_count": null,
   "metadata": {},
   "outputs": [],
   "source": [
    "#disable\n",
    "da=list(df.DISABLE.unique())\n",
    "da"
   ]
  },
  {
   "cell_type": "code",
   "execution_count": null,
   "metadata": {},
   "outputs": [],
   "source": [
    "#recovd\n",
    "re=list(df.RECOVD.unique())\n",
    "re"
   ]
  },
  {
   "cell_type": "code",
   "execution_count": null,
   "metadata": {},
   "outputs": [],
   "source": [
    "#VAX_DATE\n",
    "\n",
    "spec_chars = [\"/\"]\n",
    "for char in spec_chars:\n",
    "    df['VAX_DATE'] = df['VAX_DATE'].str.replace(char, '-')\n",
    "dv=list(df.VAX_DATE.unique())\n",
    "dv"
   ]
  },
  {
   "cell_type": "code",
   "execution_count": null,
   "metadata": {},
   "outputs": [],
   "source": [
    "df.columns"
   ]
  },
  {
   "cell_type": "code",
   "execution_count": null,
   "metadata": {},
   "outputs": [],
   "source": [
    "#ONSET_DATE\n",
    "\n",
    "spec_chars = [\"/\"]\n",
    "for char in spec_chars:\n",
    "    df['ONSET_DATE'] = df['ONSET_DATE'].str.replace(char, '-')\n",
    "od=list(df.ONSET_DATE.unique())\n",
    "od"
   ]
  },
  {
   "cell_type": "code",
   "execution_count": null,
   "metadata": {},
   "outputs": [],
   "source": [
    "#num days\n",
    "nd=list(df.NUMDAYS.unique())\n",
    "nd\n"
   ]
  },
  {
   "cell_type": "code",
   "execution_count": null,
   "metadata": {},
   "outputs": [],
   "source": [
    "ol=[]\n",
    "for i in nd:\n",
    "    if i>100:\n",
    "       ol.append(i)\n",
    "df['NUMDAYS'] = df['NUMDAYS'].replace([ol],np.nan)"
   ]
  },
  {
   "cell_type": "code",
   "execution_count": null,
   "metadata": {},
   "outputs": [],
   "source": [
    "nd2=list(df.NUMDAYS.unique())\n",
    "nd2"
   ]
  },
  {
   "cell_type": "code",
   "execution_count": null,
   "metadata": {},
   "outputs": [],
   "source": [
    "df.columns"
   ]
  },
  {
   "cell_type": "code",
   "execution_count": null,
   "metadata": {},
   "outputs": [],
   "source": [
    "df.drop(columns=['V_ADMINBY','V_FUNDBY','SPLTTYPE'])"
   ]
  },
  {
   "cell_type": "code",
   "execution_count": null,
   "metadata": {},
   "outputs": [],
   "source": [
    "spe_char=['no','NO','NONE','none','None','No','not applicable','Na','nan','NAN','UNKNOWN','unknown','Unknown']\n",
    "\n",
    "df.replace(to_replace=[spe_char], value=np.nan, inplace=True)\n",
    "df"
   ]
  },
  {
   "cell_type": "code",
   "execution_count": null,
   "metadata": {},
   "outputs": [],
   "source": [
    "#FORM_VERS\n",
    "fv=list(df.FORM_VERS.unique())\n",
    "fv"
   ]
  },
  {
   "cell_type": "code",
   "execution_count": null,
   "metadata": {},
   "outputs": [],
   "source": [
    "#TODAYS_DATE\n",
    "\n",
    "spec_chars = [\"/\"]\n",
    "for char in spec_chars:\n",
    "    df['TODAYS_DATE'] = df['TODAYS_DATE'].str.replace(char, '-')\n",
    "td=list(df.TODAYS_DATE.unique())\n",
    "td"
   ]
  },
  {
   "cell_type": "code",
   "execution_count": null,
   "metadata": {},
   "outputs": [],
   "source": [
    "#BIRTH_DEFECT\n",
    "bd=list(df.BIRTH_DEFECT.unique())\n",
    "bd"
   ]
  },
  {
   "cell_type": "code",
   "execution_count": null,
   "metadata": {},
   "outputs": [],
   "source": [
    "#OFC_VISIT\n",
    "ov=list(df.OFC_VISIT.unique())\n",
    "ov"
   ]
  },
  {
   "cell_type": "code",
   "execution_count": null,
   "metadata": {},
   "outputs": [],
   "source": [
    "#er ed visit\n",
    "ered=list(df.ER_ED_VISIT.unique())\n",
    "ered"
   ]
  },
  {
   "cell_type": "code",
   "execution_count": null,
   "metadata": {},
   "outputs": [],
   "source": [
    "#VAERSSYMPTOMS\n",
    "df3=pd.read_csv('2021VAERSSYMPTOMS.csv', encoding = \"ISO-8859-1\")"
   ]
  },
  {
   "cell_type": "code",
   "execution_count": null,
   "metadata": {},
   "outputs": [],
   "source": [
    "df3"
   ]
  },
  {
   "cell_type": "code",
   "execution_count": null,
   "metadata": {},
   "outputs": [],
   "source": [
    "#making sure patient data is in all 3 datasets\n",
    "final_ids=list(df.VAERS_ID)"
   ]
  },
  {
   "cell_type": "code",
   "execution_count": null,
   "metadata": {},
   "outputs": [],
   "source": [
    "df2=df2[df2['VAERS_ID'].isin(final_ids)]"
   ]
  },
  {
   "cell_type": "code",
   "execution_count": null,
   "metadata": {},
   "outputs": [],
   "source": [
    "df3=df3[df3['VAERS_ID'].isin(final_ids)]"
   ]
  },
  {
   "cell_type": "code",
   "execution_count": null,
   "metadata": {},
   "outputs": [],
   "source": [
    "df\n",
    "print(len(list(df.VAERS_ID.unique())))"
   ]
  },
  {
   "cell_type": "code",
   "execution_count": null,
   "metadata": {},
   "outputs": [],
   "source": [
    "df2\n",
    "print(len(list(df2.VAERS_ID.unique())))"
   ]
  },
  {
   "cell_type": "code",
   "execution_count": null,
   "metadata": {},
   "outputs": [],
   "source": [
    "df3\n",
    "print(len(list(df3.VAERS_ID.unique())))"
   ]
  },
  {
   "cell_type": "code",
   "execution_count": null,
   "metadata": {},
   "outputs": [],
   "source": [
    "final_ids_2=list(df3.VAERS_ID.unique())"
   ]
  },
  {
   "cell_type": "code",
   "execution_count": null,
   "metadata": {},
   "outputs": [],
   "source": [
    "df2=df2[df2['VAERS_ID'].isin(final_ids_2)]\n",
    "print(len(list(df2.VAERS_ID.unique())))"
   ]
  },
  {
   "cell_type": "code",
   "execution_count": null,
   "metadata": {},
   "outputs": [],
   "source": [
    "df=df[df['VAERS_ID'].isin(final_ids_2)]\n",
    "print(len(list(df.VAERS_ID.unique())))"
   ]
  },
  {
   "cell_type": "code",
   "execution_count": null,
   "metadata": {},
   "outputs": [],
   "source": [
    "#exporting datasets"
   ]
  },
  {
   "cell_type": "code",
   "execution_count": null,
   "metadata": {},
   "outputs": [],
   "source": [
    "df2.to_csv('cleaned_datasets/2021VAERSVAX_clean.csv', index=False)"
   ]
  },
  {
   "cell_type": "code",
   "execution_count": null,
   "metadata": {},
   "outputs": [],
   "source": [
    "df.to_csv('cleaned_datasets/2021VAERSDATA_clean.csv', index=False)"
   ]
  },
  {
   "cell_type": "code",
   "execution_count": null,
   "metadata": {},
   "outputs": [],
   "source": [
    "df3.to_csv('cleaned_datasets/2021VAERSSYMPTOMS_clean.csv', index=False)"
   ]
  },
  {
   "cell_type": "code",
   "execution_count": null,
   "metadata": {},
   "outputs": [],
   "source": []
  }
 ],
 "metadata": {
  "kernelspec": {
   "display_name": "Python 3",
   "language": "python",
   "name": "python3"
  },
  "language_info": {
   "codemirror_mode": {
    "name": "ipython",
    "version": 3
   },
   "file_extension": ".py",
   "mimetype": "text/x-python",
   "name": "python",
   "nbconvert_exporter": "python",
   "pygments_lexer": "ipython3",
   "version": "3.7.6"
  }
 },
 "nbformat": 4,
 "nbformat_minor": 4
}
