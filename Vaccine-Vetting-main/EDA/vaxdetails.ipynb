{
 "cells": [
  {
   "cell_type": "code",
   "execution_count": 21,
   "metadata": {},
   "outputs": [],
   "source": [
    "from collections import Counter\n",
    "import itertools"
   ]
  },
  {
   "cell_type": "code",
   "execution_count": 20,
   "metadata": {},
   "outputs": [],
   "source": [
    "import pandas as pd\n",
    "vax_df=pd.read_csv(\"../data/2021VAERSData/2021VAERSVAX.csv\", encoding=\"cp1252\")"
   ]
  },
  {
   "cell_type": "code",
   "execution_count": 10,
   "metadata": {},
   "outputs": [
    {
     "data": {
      "text/plain": [
       "COVID19 (COVID19 (PFIZER-BIONTECH))           212922\n",
       "COVID19 (COVID19 (MODERNA))                   208668\n",
       "COVID19 (COVID19 (JANSSEN))                    47478\n",
       "VACCINE NOT SPECIFIED (NO BRAND NAME)           2780\n",
       "ZOSTER (SHINGRIX)                               1546\n",
       "                                               ...  \n",
       "INFLUENZA (H1N1) (H1N1 (MONOVALENT) (GSK))         1\n",
       "VARICELLA (VARILRIX)                               1\n",
       "DTAP + IPV + HIB (UNKNOWN)                         1\n",
       "SMALLPOX (NO BRAND NAME)                           1\n",
       "POLIO VIRUS, ORAL (NO BRAND NAME)                  1\n",
       "Name: VAX_NAME, Length: 108, dtype: int64"
      ]
     },
     "execution_count": 10,
     "metadata": {},
     "output_type": "execute_result"
    }
   ],
   "source": [
    "df['VAX_NAME'].value_counts()"
   ]
  },
  {
   "cell_type": "code",
   "execution_count": 8,
   "metadata": {},
   "outputs": [
    {
     "name": "stdout",
     "output_type": "stream",
     "text": [
      "COVID19 (COVID19 (PFIZER-BIONTECH))                      212922\n",
      "COVID19 (COVID19 (MODERNA))                              208668\n",
      "COVID19 (COVID19 (JANSSEN))                               47478\n",
      "VACCINE NOT SPECIFIED (NO BRAND NAME)                      2780\n",
      "ZOSTER (SHINGRIX)                                          1546\n",
      "COVID19 (COVID19 (UNKNOWN))                                1050\n",
      "ZOSTER (NO BRAND NAME)                                      704\n",
      "ZOSTER LIVE (ZOSTAVAX)                                      295\n",
      "INFLUENZA (SEASONAL) (NO BRAND NAME)                        291\n",
      "PNEUMO (PREVNAR13)                                          282\n",
      "HPV (GARDASIL 9)                                            281\n",
      "VARICELLA (VARIVAX)                                         208\n",
      "MEASLES + MUMPS + RUBELLA (MMR II)                          208\n",
      "PNEUMO (PNEUMOVAX)                                          186\n",
      "INFLUENZA (SEASONAL) (FLUZONE QUADRIVALENT)                 175\n",
      "INFLUENZA (SEASONAL) (FLUCELVAX QUADRIVALENT)               171\n",
      "INFLUENZA (SEASONAL) (FLUZONE HIGH-DOSE QUADRIVALENT)       149\n",
      "INFLUENZA (SEASONAL) (AFLURIA QUADRIVALENT)                 140\n",
      "MEASLES + MUMPS + RUBELLA + VARICELLA (PROQUAD)             136\n",
      "ROTAVIRUS (ROTATEQ)                                         125\n",
      "TDAP (BOOSTRIX)                                             114\n",
      "MENINGOCOCCAL CONJUGATE (MENACTRA)                          110\n",
      "INFLUENZA (SEASONAL) (FLUARIX QUADRIVALENT)                 104\n",
      "HEP A (HAVRIX)                                              102\n",
      "TDAP (ADACEL)                                               100\n",
      "DTAP + IPV + HIB (PENTACEL)                                  97\n",
      "HEP B (ENGERIX-B)                                            96\n",
      "MENINGOCOCCAL B (BEXSERO)                                    92\n",
      "HEP A (VAQTA)                                                88\n",
      "DTAP + HEPB + IPV (PEDIARIX)                                 85\n",
      "RABIES (RABAVERT)                                            83\n",
      "INFLUENZA (SEASONAL) (FLUAD QUADRIVALENT)                    80\n",
      "INFLUENZA (SEASONAL) (FLUBLOK QUADRIVALENT)                  78\n",
      "MENINGOCOCCAL CONJUGATE (MENVEO)                             76\n",
      "VACCINE NOT SPECIFIED (OTHER)                                73\n",
      "DTAP + IPV (KINRIX)                                          67\n",
      "HIB (ACTHIB)                                                 67\n",
      "DTAP (DAPTACEL)                                              60\n",
      "HIB (PEDVAXHIB)                                              57\n",
      "DTAP (INFANRIX)                                              49\n",
      "POLIO VIRUS, INACT. (IPOL)                                   48\n",
      "INFLUENZA (SEASONAL) (FLULAVAL QUADRIVALENT)                 48\n",
      "INFLUENZA (SEASONAL) (FLUAD)                                 43\n",
      "PNEUMO (NO BRAND NAME)                                       40\n",
      "HPV (GARDASIL)                                               37\n",
      "ROTAVIRUS (ROTARIX)                                          36\n",
      "HEP B (RECOMBIVAX HB)                                        29\n",
      "MENINGOCOCCAL B (TRUMENBA)                                   27\n",
      "HEP B (HEPLISAV-B)                                           26\n",
      "HEP A + HEP B (TWINRIX)                                      23\n",
      "DTAP + IPV (QUADRACEL)                                       23\n",
      "ANTHRAX (BIOTHRAX)                                           22\n",
      "DTAP (NO BRAND NAME)                                         21\n",
      "HIB (HIBERIX)                                                20\n",
      "INFLUENZA (SEASONAL) (FLUCELVAX)                             17\n",
      "HEP B (NO BRAND NAME)                                        17\n",
      "TYPHOID VI POLYSACCHARIDE (TYPHIM VI)                        15\n",
      "MENINGOCOCCAL (NO BRAND NAME)                                14\n",
      "ADENOVIRUS TYPES 4 & 7, LIVE, ORAL (NO BRAND NAME)           13\n",
      "INFLUENZA (SEASONAL) (FLUMIST QUADRIVALENT)                  12\n",
      "TDAP (NO BRAND NAME)                                         12\n",
      "CHOLERA (VAXCHORA)                                           12\n",
      "EBOLA ZAIRE (ERVEBO)                                         12\n",
      "TETANUS TOXOID (NO BRAND NAME)                               11\n",
      "DT ADSORBED (NO BRAND NAME)                                  11\n",
      "YELLOW FEVER (YF-VAX)                                        10\n",
      "INFLUENZA (SEASONAL) (FLUZONE)                               10\n",
      "HIB (NO BRAND NAME)                                          10\n",
      "TD ADSORBED (TENIVAC)                                         9\n",
      "POLIO VIRUS, INACT. (NO BRAND NAME)                           9\n",
      "TYPHOID LIVE ORAL TY21A (VIVOTIF)                             9\n",
      "INFLUENZA (SEASONAL) (FLUZONE HIGH-DOSE)                      8\n",
      "VACCINE NOT SPECIFIED (FOREIGN)                               8\n",
      "SMALLPOX (ACAM2000)                                           8\n",
      "DENGUE TETRAVALENT (DENGVAXIA)                                7\n",
      "MEASLES + MUMPS + RUBELLA (NO BRAND NAME)                     6\n",
      "ROTAVIRUS (NO BRAND NAME)                                     6\n",
      "HEP A (NO BRAND NAME)                                         6\n",
      "INFLUENZA (H1N1) (H1N1 (MONOVALENT) (UNKNOWN))                5\n",
      "TD ADSORBED (TDVAX)                                           5\n",
      "RABIES (IMOVAX)                                               4\n",
      "DTP (NO BRAND NAME)                                           4\n",
      "JAPANESE ENCEPHALITIS (IXIARO)                                4\n",
      "INFLUENZA (SEASONAL) (FLUVIRIN)                               4\n",
      "TD ADSORBED (NO BRAND NAME)                                   4\n",
      "PNEUMO (PREVNAR)                                              4\n",
      "INFLUENZA (SEASONAL) (QIV DRESDEN)                            3\n",
      "HPV (NO BRAND NAME)                                           3\n",
      "RABIES (NO BRAND NAME)                                        3\n",
      "INFLUENZA (SEASONAL) (FLUMIST)                                3\n",
      "INFLUENZA (SEASONAL) (AFLURIA)                                3\n",
      "VARICELLA (NO BRAND NAME)                                     3\n",
      "INFLUENZA (SEASONAL) (FLULAVAL)                               3\n",
      "YELLOW FEVER (STAMARIL)                                       2\n",
      "POLIO VIRUS, INACT. (POLIOVAX)                                2\n",
      "ANTHRAX (NO BRAND NAME)                                       2\n",
      "INFLUENZA (H1N1) (H1N1 (MONOVALENT) (SANOFI))                 1\n",
      "TETANUS DIPHTHERIA (NO BRAND NAME)                            1\n",
      "MENINGOCOCCAL CONJUGATE + HIB (MENITORIX)                     1\n",
      "INFLUENZA (SEASONAL) (FLUZONE INTRADERMAL)                    1\n",
      "CHOLERA (NO BRAND NAME)                                       1\n",
      "INFLUENZA (SEASONAL) (FLUARIX)                                1\n",
      "MENINGOCOCCAL C & Y + HIB (MENHIBRIX)                         1\n",
      "INFLUENZA (H1N1) (H1N1 (MONOVALENT) (GSK))                    1\n",
      "VARICELLA (VARILRIX)                                          1\n",
      "DTAP + IPV + HIB (UNKNOWN)                                    1\n",
      "SMALLPOX (NO BRAND NAME)                                      1\n",
      "POLIO VIRUS, ORAL (NO BRAND NAME)                             1\n",
      "Name: VAX_NAME, dtype: int64\n"
     ]
    }
   ],
   "source": [
    "with pd.option_context('display.max_rows', None, 'display.max_columns', None):  # more options can be specified also\n",
    "    print(df['VAX_NAME'].value_counts())"
   ]
  },
  {
   "cell_type": "code",
   "execution_count": 11,
   "metadata": {},
   "outputs": [],
   "source": [
    "users_df=pd.read_csv(\"../data/2021VAERSData/2021VAERSDATA.csv\", encoding='cp1252', low_memory=False)"
   ]
  },
  {
   "cell_type": "code",
   "execution_count": 12,
   "metadata": {},
   "outputs": [],
   "source": [
    "merged_df=users_df.merge(vax_df, on=\"VAERS_ID\", how=\"inner\")"
   ]
  },
  {
   "cell_type": "code",
   "execution_count": 17,
   "metadata": {},
   "outputs": [],
   "source": [
    "symptoms_df=pd.read_csv(\"../data/2021VAERSData/2021VAERSSYMPTOMS.csv\")"
   ]
  },
  {
   "cell_type": "code",
   "execution_count": 26,
   "metadata": {},
   "outputs": [
    {
     "name": "stdout",
     "output_type": "stream",
     "text": [
      "Headache 38420\n",
      "Pyrexia 34424\n",
      "Fatigue 32569\n",
      "Chills 31431\n",
      "Pain 30337\n",
      "Nausea 22645\n",
      "Pain in extremity 21351\n",
      "Injection site erythema 20485\n",
      "Dizziness 20276\n",
      "Injection site pain 19970\n",
      "Injection site swelling 15916\n",
      "Injection site pruritus 15370\n",
      "Pruritus 13294\n",
      "Rash 13092\n",
      "Arthralgia 12925\n",
      "Myalgia 12598\n",
      "Injection site warmth 10809\n",
      "Erythema 10790\n",
      "Dyspnoea 10220\n",
      "Vomiting 8708\n"
     ]
    }
   ],
   "source": [
    "# moderna symptoms\n",
    "moderna_symptoms=merged_df[merged_df[\"VAX_MANU\"]==\"MODERNA\"]\n",
    "moderna_symptoms=moderna_symptoms.merge(symptoms_df, on=\"VAERS_ID\", how=\"inner\")\n",
    "\n",
    "sym1= dict(moderna_symptoms[\"SYMPTOM1\"].value_counts())\n",
    "sym2= dict(moderna_symptoms[\"SYMPTOM2\"].value_counts())\n",
    "sym3= dict(moderna_symptoms[\"SYMPTOM3\"].value_counts())\n",
    "sym4= dict(moderna_symptoms[\"SYMPTOM4\"].value_counts())\n",
    "sym5= dict(moderna_symptoms[\"SYMPTOM5\"].value_counts())\n",
    "\n",
    "sym_all = dict(Counter(sym1)+Counter(sym2)+Counter(sym3)+Counter(sym4)+Counter(sym5))\n",
    "sym_all=dict(sorted(sym_all.items(), key=lambda item: item[1], reverse=True))\n",
    "\n",
    "out = dict(itertools.islice(sym_all.items(), 20)) \n",
    "\n",
    "for key, value in out.items():\n",
    "  print(key, value)"
   ]
  },
  {
   "cell_type": "code",
   "execution_count": 24,
   "metadata": {},
   "outputs": [
    {
     "name": "stdout",
     "output_type": "stream",
     "text": [
      "Headache 37481\n",
      "Fatigue 31333\n",
      "Pyrexia 28042\n",
      "Pain 26333\n",
      "Dizziness 25790\n",
      "Chills 25401\n",
      "Nausea 22357\n",
      "Pain in extremity 18145\n",
      "Arthralgia 12881\n",
      "Dyspnoea 12697\n",
      "Myalgia 11671\n",
      "Rash 10685\n",
      "Pruritus 9155\n",
      "COVID-19 9071\n",
      "Injection site pain 9055\n",
      "Vomiting 8678\n",
      "Paraesthesia 8355\n",
      "Asthenia 8093\n",
      "Lymphadenopathy 7587\n",
      "Hypoaesthesia 7574\n"
     ]
    }
   ],
   "source": [
    "# pfizer symptoms\n",
    "pfizer_symptoms=merged_df[merged_df[\"VAX_MANU\"]==\"PFIZER\\BIONTECH\"]\n",
    "pfizer_symptoms=pfizer_symptoms.merge(symptoms_df, on=\"VAERS_ID\", how=\"inner\")\n",
    "\n",
    "sym1= dict(pfizer_symptoms[\"SYMPTOM1\"].value_counts())\n",
    "sym2= dict(pfizer_symptoms[\"SYMPTOM2\"].value_counts())\n",
    "sym3= dict(pfizer_symptoms[\"SYMPTOM3\"].value_counts())\n",
    "sym4= dict(pfizer_symptoms[\"SYMPTOM4\"].value_counts())\n",
    "sym5= dict(pfizer_symptoms[\"SYMPTOM5\"].value_counts())\n",
    "\n",
    "sym_all = dict(Counter(sym1)+Counter(sym2)+Counter(sym3)+Counter(sym4)+Counter(sym5))\n",
    "sym_all=dict(sorted(sym_all.items(), key=lambda item: item[1], reverse=True))\n",
    "\n",
    "out = dict(itertools.islice(sym_all.items(), 20)) \n",
    "\n",
    "for key, value in out.items():\n",
    "  print(key, value)"
   ]
  },
  {
   "cell_type": "code",
   "execution_count": 25,
   "metadata": {},
   "outputs": [
    {
     "name": "stdout",
     "output_type": "stream",
     "text": [
      "Headache 13283\n",
      "Pyrexia 11129\n",
      "Chills 9844\n",
      "Pain 8964\n",
      "Fatigue 8902\n",
      "Dizziness 7041\n",
      "Nausea 6883\n",
      "Pain in extremity 5084\n",
      "Myalgia 3526\n",
      "Injection site pain 3037\n",
      "Dyspnoea 2924\n",
      "Hyperhidrosis 2901\n",
      "Arthralgia 2849\n",
      "Vomiting 2564\n",
      "Asthenia 2307\n",
      "Syncope 1961\n",
      "Feeling abnormal 1865\n",
      "Rash 1850\n",
      "Paraesthesia 1818\n",
      "Hypoaesthesia 1815\n"
     ]
    }
   ],
   "source": [
    "# Jansen symptoms\n",
    "jansen_symptoms=merged_df[merged_df[\"VAX_MANU\"]==\"JANSSEN\"]\n",
    "jansen_symptoms=jansen_symptoms.merge(symptoms_df, on=\"VAERS_ID\", how=\"inner\")\n",
    "\n",
    "sym1= dict(jansen_symptoms[\"SYMPTOM1\"].value_counts())\n",
    "sym2= dict(jansen_symptoms[\"SYMPTOM2\"].value_counts())\n",
    "sym3= dict(jansen_symptoms[\"SYMPTOM3\"].value_counts())\n",
    "sym4= dict(jansen_symptoms[\"SYMPTOM4\"].value_counts())\n",
    "sym5= dict(jansen_symptoms[\"SYMPTOM5\"].value_counts())\n",
    "\n",
    "sym_all = dict(Counter(sym1)+Counter(sym2)+Counter(sym3)+Counter(sym4)+Counter(sym5))\n",
    "sym_all=dict(sorted(sym_all.items(), key=lambda item: item[1], reverse=True))\n",
    "\n",
    "out = dict(itertools.islice(sym_all.items(), 20)) \n",
    "\n",
    "for key, value in out.items():\n",
    "  print(key, value)"
   ]
  },
  {
   "cell_type": "code",
   "execution_count": 34,
   "metadata": {},
   "outputs": [
    {
     "data": {
      "text/plain": [
       "PFIZER\\BIONTECH                      212922\n",
       "MODERNA                              208668\n",
       "JANSSEN                               47478\n",
       "UNKNOWN MANUFACTURER                   5076\n",
       "GLAXOSMITHKLINE BIOLOGICALS            2301\n",
       "MERCK & CO. INC.                       1662\n",
       "SANOFI PASTEUR                          928\n",
       "SEQIRUS, INC.                           391\n",
       "NOVARTIS VACCINES AND DIAGNOSTICS       315\n",
       "PFIZER\\WYETH                            313\n",
       "PROTEIN SCIENCES CORPORATION             78\n",
       "DYNAVAX TECHNOLOGIES CORPORATION         26\n",
       "EMERGENT BIOSOLUTIONS                    22\n",
       "MEDIMMUNE VACCINES, INC.                 15\n",
       "TEVA PHARMACEUTICALS                     13\n",
       "PAXVAX                                   12\n",
       "BERNA BIOTECH, LTD.                       9\n",
       "MASS. PUB HLTH BIOL LAB                   5\n",
       "INTERCELL AG                              4\n",
       "CSL LIMITED                               3\n",
       "Name: VAX_MANU, dtype: int64"
      ]
     },
     "execution_count": 34,
     "metadata": {},
     "output_type": "execute_result"
    }
   ],
   "source": [
    "merged_df[\"VAX_MANU\"].value_counts()"
   ]
  },
  {
   "cell_type": "code",
   "execution_count": 30,
   "metadata": {},
   "outputs": [
    {
     "data": {
      "text/plain": [
       "COVID19 (COVID19 (PFIZER-BIONTECH))                      212922\n",
       "COVID19 (COVID19 (MODERNA))                              208668\n",
       "COVID19 (COVID19 (JANSSEN))                               47478\n",
       "VACCINE NOT SPECIFIED (NO BRAND NAME)                      2780\n",
       "ZOSTER (SHINGRIX)                                          1546\n",
       "COVID19 (COVID19 (UNKNOWN))                                1050\n",
       "ZOSTER (NO BRAND NAME)                                      704\n",
       "ZOSTER LIVE (ZOSTAVAX)                                      295\n",
       "INFLUENZA (SEASONAL) (NO BRAND NAME)                        291\n",
       "PNEUMO (PREVNAR13)                                          282\n",
       "HPV (GARDASIL 9)                                            281\n",
       "VARICELLA (VARIVAX)                                         208\n",
       "MEASLES + MUMPS + RUBELLA (MMR II)                          208\n",
       "PNEUMO (PNEUMOVAX)                                          186\n",
       "INFLUENZA (SEASONAL) (FLUZONE QUADRIVALENT)                 175\n",
       "INFLUENZA (SEASONAL) (FLUCELVAX QUADRIVALENT)               171\n",
       "INFLUENZA (SEASONAL) (FLUZONE HIGH-DOSE QUADRIVALENT)       149\n",
       "INFLUENZA (SEASONAL) (AFLURIA QUADRIVALENT)                 140\n",
       "MEASLES + MUMPS + RUBELLA + VARICELLA (PROQUAD)             136\n",
       "ROTAVIRUS (ROTATEQ)                                         125\n",
       "Name: VAX_NAME, dtype: int64"
      ]
     },
     "execution_count": 30,
     "metadata": {},
     "output_type": "execute_result"
    }
   ],
   "source": [
    "merged_df[\"VAX_NAME\"].value_counts().head(20)"
   ]
  },
  {
   "cell_type": "code",
   "execution_count": 36,
   "metadata": {},
   "outputs": [
    {
     "name": "stdout",
     "output_type": "stream",
     "text": [
      "Pain 26\n",
      "Pain in extremity 23\n",
      "Injection site pain 22\n",
      "Arthralgia 16\n",
      "Mobility decreased 12\n",
      "Pyrexia 12\n",
      "No adverse event 11\n",
      "Rash 9\n",
      "Headache 9\n",
      "Asthenia 8\n"
     ]
    }
   ],
   "source": [
    "# Influenza - INFLUENZA (SEASONAL) (FLUZONE QUADRIVALENT) symptoms\n",
    "jansen_symptoms=merged_df[merged_df[\"VAX_NAME\"]==\"INFLUENZA (SEASONAL) (FLUZONE QUADRIVALENT)\"]\n",
    "jansen_symptoms=jansen_symptoms.merge(symptoms_df, on=\"VAERS_ID\", how=\"inner\")\n",
    "\n",
    "sym1= dict(jansen_symptoms[\"SYMPTOM1\"].value_counts())\n",
    "sym2= dict(jansen_symptoms[\"SYMPTOM2\"].value_counts())\n",
    "sym3= dict(jansen_symptoms[\"SYMPTOM3\"].value_counts())\n",
    "sym4= dict(jansen_symptoms[\"SYMPTOM4\"].value_counts())\n",
    "sym5= dict(jansen_symptoms[\"SYMPTOM5\"].value_counts())\n",
    "\n",
    "sym_all = dict(Counter(sym1)+Counter(sym2)+Counter(sym3)+Counter(sym4)+Counter(sym5))\n",
    "sym_all=dict(sorted(sym_all.items(), key=lambda item: item[1], reverse=True))\n",
    "\n",
    "out = dict(itertools.islice(sym_all.items(), 10)) \n",
    "\n",
    "for key, value in out.items():\n",
    "  print(key, value)"
   ]
  },
  {
   "cell_type": "code",
   "execution_count": 38,
   "metadata": {},
   "outputs": [
    {
     "name": "stdout",
     "output_type": "stream",
     "text": [
      "Injection site swelling 22\n",
      "Injection site pain 20\n",
      "Pain in extremity 20\n",
      "Injection site erythema 19\n",
      "Vaccination site mass 18\n",
      "Injection site warmth 17\n",
      "Vaccination site rash 17\n",
      "Vaccination site warmth 16\n",
      "Pain 16\n",
      "Vaccination site erythema 15\n"
     ]
    }
   ],
   "source": [
    "# Influenza - INFLUENZA (SEASONAL) (FLUCELVAX QUADRIVALENT)  symptoms\n",
    "jansen_symptoms=merged_df[merged_df[\"VAX_NAME\"]==\"INFLUENZA (SEASONAL) (FLUCELVAX QUADRIVALENT)\"]\n",
    "jansen_symptoms=jansen_symptoms.merge(symptoms_df, on=\"VAERS_ID\", how=\"inner\")\n",
    "\n",
    "sym1= dict(jansen_symptoms[\"SYMPTOM1\"].value_counts())\n",
    "sym2= dict(jansen_symptoms[\"SYMPTOM2\"].value_counts())\n",
    "sym3= dict(jansen_symptoms[\"SYMPTOM3\"].value_counts())\n",
    "sym4= dict(jansen_symptoms[\"SYMPTOM4\"].value_counts())\n",
    "sym5= dict(jansen_symptoms[\"SYMPTOM5\"].value_counts())\n",
    "\n",
    "sym_all = dict(Counter(sym1)+Counter(sym2)+Counter(sym3)+Counter(sym4)+Counter(sym5))\n",
    "sym_all=dict(sorted(sym_all.items(), key=lambda item: item[1], reverse=True))\n",
    "\n",
    "out = dict(itertools.islice(sym_all.items(), 10)) \n",
    "\n",
    "for key, value in out.items():\n",
    "  print(key, value)"
   ]
  },
  {
   "cell_type": "code",
   "execution_count": 39,
   "metadata": {},
   "outputs": [
    {
     "name": "stdout",
     "output_type": "stream",
     "text": [
      "Pain 25\n",
      "Pain in extremity 24\n",
      "Injection site pain 16\n",
      "Fatigue 11\n",
      "Arthralgia 9\n",
      "Pyrexia 9\n",
      "Extra dose administered 8\n",
      "Mobility decreased 8\n",
      "Chills 8\n",
      "Guillain-Barre syndrome 8\n"
     ]
    }
   ],
   "source": [
    "# Influenza - INFLUENZA (SEASONAL) (FLUZONE HIGH-DOSE QUADRIVALENT)  symptoms\n",
    "jansen_symptoms=merged_df[merged_df[\"VAX_NAME\"]==\"INFLUENZA (SEASONAL) (FLUZONE HIGH-DOSE QUADRIVALENT)\"]\n",
    "jansen_symptoms=jansen_symptoms.merge(symptoms_df, on=\"VAERS_ID\", how=\"inner\")\n",
    "\n",
    "sym1= dict(jansen_symptoms[\"SYMPTOM1\"].value_counts())\n",
    "sym2= dict(jansen_symptoms[\"SYMPTOM2\"].value_counts())\n",
    "sym3= dict(jansen_symptoms[\"SYMPTOM3\"].value_counts())\n",
    "sym4= dict(jansen_symptoms[\"SYMPTOM4\"].value_counts())\n",
    "sym5= dict(jansen_symptoms[\"SYMPTOM5\"].value_counts())\n",
    "\n",
    "sym_all = dict(Counter(sym1)+Counter(sym2)+Counter(sym3)+Counter(sym4)+Counter(sym5))\n",
    "sym_all=dict(sorted(sym_all.items(), key=lambda item: item[1], reverse=True))\n",
    "\n",
    "out = dict(itertools.islice(sym_all.items(), 10)) \n",
    "\n",
    "for key, value in out.items():\n",
    "  print(key, value)"
   ]
  },
  {
   "cell_type": "code",
   "execution_count": null,
   "metadata": {},
   "outputs": [],
   "source": [
    "# Influenza - INFLUENZA (SEASONAL) (AFLURIA QUADRIVALENT)  symptoms\n",
    "jansen_symptoms=merged_df[merged_df[\"VAX_NAME\"]==\"INFLUENZA (SEASONAL) (AFLURIA QUADRIVALENT)\"]\n",
    "jansen_symptoms=jansen_symptoms.merge(symptoms_df, on=\"VAERS_ID\", how=\"inner\")\n",
    "\n",
    "sym1= dict(jansen_symptoms[\"SYMPTOM1\"].value_counts())\n",
    "sym2= dict(jansen_symptoms[\"SYMPTOM2\"].value_counts())\n",
    "sym3= dict(jansen_symptoms[\"SYMPTOM3\"].value_counts())\n",
    "sym4= dict(jansen_symptoms[\"SYMPTOM4\"].value_counts())\n",
    "sym5= dict(jansen_symptoms[\"SYMPTOM5\"].value_counts())\n",
    "\n",
    "sym_all = dict(Counter(sym1)+Counter(sym2)+Counter(sym3)+Counter(sym4)+Counter(sym5))\n",
    "sym_all=dict(sorted(sym_all.items(), key=lambda item: item[1], reverse=True))\n",
    "\n",
    "out = dict(itertools.islice(sym_all.items(), 10)) \n",
    "\n",
    "for key, value in out.items():\n",
    "  print(key, value)"
   ]
  },
  {
   "cell_type": "markdown",
   "metadata": {},
   "source": []
  }
 ],
 "metadata": {
  "interpreter": {
   "hash": "29f9c5f07bafa634f1852628802e2fbd98488c14cb78ec797f8bb458bb7a40c3"
  },
  "kernelspec": {
   "display_name": "Python 3.7.4 64-bit",
   "name": "python3"
  },
  "language_info": {
   "codemirror_mode": {
    "name": "ipython",
    "version": 3
   },
   "file_extension": ".py",
   "mimetype": "text/x-python",
   "name": "python",
   "nbconvert_exporter": "python",
   "pygments_lexer": "ipython3",
   "version": "3.7.4"
  },
  "orig_nbformat": 4
 },
 "nbformat": 4,
 "nbformat_minor": 2
}
