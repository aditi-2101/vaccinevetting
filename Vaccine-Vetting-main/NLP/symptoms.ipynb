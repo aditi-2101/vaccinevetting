{
 "cells": [
  {
   "cell_type": "code",
   "execution_count": 5,
   "source": [
    "import pandas as pd\r\n",
    "\r\n",
    "symptoms_df=pd.read_csv(\"../data/2021VAERSData/2021VAERSSYMPTOMS.csv\")\r\n",
    "users_df=pd.read_csv(\"../data/2021VAERSData/2021VAERSDATA.csv\", encoding='cp1252', low_memory=False)\r\n"
   ],
   "outputs": [],
   "metadata": {}
  },
  {
   "cell_type": "code",
   "execution_count": 19,
   "source": [
    "# print(symptoms_df.shape)\r\n",
    "# print(users_df.shape)\r\n",
    "# print(users_df['VAERS_ID'].nunique())\r\n",
    "# print(symptoms_df['VAERS_ID'].nunique())\r\n",
    "symptoms_df['VAERS_ID'].value_counts()"
   ],
   "outputs": [
    {
     "output_type": "execute_result",
     "data": {
      "text/plain": [
       "1400623    23\n",
       "1306674    22\n",
       "1019670    21\n",
       "1277549    20\n",
       "1230840    20\n",
       "           ..\n",
       "1425796     1\n",
       "1427845     1\n",
       "1417608     1\n",
       "1423755     1\n",
       "1052674     1\n",
       "Name: VAERS_ID, Length: 460861, dtype: int64"
      ]
     },
     "metadata": {},
     "execution_count": 19
    }
   ],
   "metadata": {}
  },
  {
   "cell_type": "code",
   "execution_count": 51,
   "source": [
    "consymdf=pd.read_csv(\"../data/2021VAERSData/2021VAERSSYMPTOMSConsolidated.csv\")"
   ],
   "outputs": [],
   "metadata": {}
  },
  {
   "cell_type": "code",
   "execution_count": 54,
   "source": [
    "consymdf.drop([\"SYMPTOM1\", \"SYMPTOM2\", \"SYMPTOM3\", \"SYMPTOM4\", \"SYMPTOM5\"], axis=1, inplace=True)"
   ],
   "outputs": [],
   "metadata": {}
  },
  {
   "cell_type": "code",
   "execution_count": 59,
   "source": [
    "consymdf[\"SYMPTOMS\"]=consymdf[\"SYMPTOMS\"].apply(lambda x: x.strip(\",\"))"
   ],
   "outputs": [],
   "metadata": {}
  },
  {
   "cell_type": "code",
   "execution_count": 61,
   "source": [
    "consymdf[\"SYMPTOMS\"]=consymdf.groupby(['VAERS_ID'])['SYMPTOMS'].transform(lambda x: \",\".join(x))\r\n",
    "consymdf=consymdf.drop_duplicates()\r\n",
    "consymdf"
   ],
   "outputs": [
    {
     "output_type": "execute_result",
     "data": {
      "text/plain": [
       "        VAERS_ID                                           SYMPTOMS\n",
       "0         916600                             Dysphagia,Epiglottitis\n",
       "1         916601                                   Anxiety,Dyspnoea\n",
       "2         916602  Chest discomfort,Dysphagia,Pain in extremity,V...\n",
       "3         916603               Dizziness,Fatigue,Mobility decreased\n",
       "4         916604  Injection site erythema,Injection site pruritu...\n",
       "...          ...                                                ...\n",
       "618473   1553408  Abdominal distension,Fatigue,Feeling abnormal,...\n",
       "618475   1553414     Arthralgia,Skin swelling,Vaccination site pain\n",
       "618476   1553416  Pruritus,Vaccination site erythema,Vaccination...\n",
       "618477   1553436                            Chest pain,Pericarditis\n",
       "618478   1553448                                           COVID-19\n",
       "\n",
       "[460861 rows x 2 columns]"
      ],
      "text/html": [
       "<div>\n",
       "<style scoped>\n",
       "    .dataframe tbody tr th:only-of-type {\n",
       "        vertical-align: middle;\n",
       "    }\n",
       "\n",
       "    .dataframe tbody tr th {\n",
       "        vertical-align: top;\n",
       "    }\n",
       "\n",
       "    .dataframe thead th {\n",
       "        text-align: right;\n",
       "    }\n",
       "</style>\n",
       "<table border=\"1\" class=\"dataframe\">\n",
       "  <thead>\n",
       "    <tr style=\"text-align: right;\">\n",
       "      <th></th>\n",
       "      <th>VAERS_ID</th>\n",
       "      <th>SYMPTOMS</th>\n",
       "    </tr>\n",
       "  </thead>\n",
       "  <tbody>\n",
       "    <tr>\n",
       "      <th>0</th>\n",
       "      <td>916600</td>\n",
       "      <td>Dysphagia,Epiglottitis</td>\n",
       "    </tr>\n",
       "    <tr>\n",
       "      <th>1</th>\n",
       "      <td>916601</td>\n",
       "      <td>Anxiety,Dyspnoea</td>\n",
       "    </tr>\n",
       "    <tr>\n",
       "      <th>2</th>\n",
       "      <td>916602</td>\n",
       "      <td>Chest discomfort,Dysphagia,Pain in extremity,V...</td>\n",
       "    </tr>\n",
       "    <tr>\n",
       "      <th>3</th>\n",
       "      <td>916603</td>\n",
       "      <td>Dizziness,Fatigue,Mobility decreased</td>\n",
       "    </tr>\n",
       "    <tr>\n",
       "      <th>4</th>\n",
       "      <td>916604</td>\n",
       "      <td>Injection site erythema,Injection site pruritu...</td>\n",
       "    </tr>\n",
       "    <tr>\n",
       "      <th>...</th>\n",
       "      <td>...</td>\n",
       "      <td>...</td>\n",
       "    </tr>\n",
       "    <tr>\n",
       "      <th>618473</th>\n",
       "      <td>1553408</td>\n",
       "      <td>Abdominal distension,Fatigue,Feeling abnormal,...</td>\n",
       "    </tr>\n",
       "    <tr>\n",
       "      <th>618475</th>\n",
       "      <td>1553414</td>\n",
       "      <td>Arthralgia,Skin swelling,Vaccination site pain</td>\n",
       "    </tr>\n",
       "    <tr>\n",
       "      <th>618476</th>\n",
       "      <td>1553416</td>\n",
       "      <td>Pruritus,Vaccination site erythema,Vaccination...</td>\n",
       "    </tr>\n",
       "    <tr>\n",
       "      <th>618477</th>\n",
       "      <td>1553436</td>\n",
       "      <td>Chest pain,Pericarditis</td>\n",
       "    </tr>\n",
       "    <tr>\n",
       "      <th>618478</th>\n",
       "      <td>1553448</td>\n",
       "      <td>COVID-19</td>\n",
       "    </tr>\n",
       "  </tbody>\n",
       "</table>\n",
       "<p>460861 rows × 2 columns</p>\n",
       "</div>"
      ]
     },
     "metadata": {},
     "execution_count": 61
    }
   ],
   "metadata": {}
  },
  {
   "cell_type": "code",
   "execution_count": 62,
   "source": [
    "consymdf.to_csv(\"../data/2021VAERSData/2021VAERSSYMPTOMSConsolidatedd.csv\", index=False)"
   ],
   "outputs": [],
   "metadata": {}
  }
 ],
 "metadata": {
  "orig_nbformat": 4,
  "language_info": {
   "name": "python",
   "version": "3.7.4",
   "mimetype": "text/x-python",
   "codemirror_mode": {
    "name": "ipython",
    "version": 3
   },
   "pygments_lexer": "ipython3",
   "nbconvert_exporter": "python",
   "file_extension": ".py"
  },
  "kernelspec": {
   "name": "python3",
   "display_name": "Python 3.7.4 64-bit"
  },
  "interpreter": {
   "hash": "29f9c5f07bafa634f1852628802e2fbd98488c14cb78ec797f8bb458bb7a40c3"
  }
 },
 "nbformat": 4,
 "nbformat_minor": 2
}